{
  "nbformat": 4,
  "nbformat_minor": 0,
  "metadata": {
    "colab": {
      "provenance": [],
      "authorship_tag": "ABX9TyN54HRu9jPWUMOQfoLF06+x",
      "include_colab_link": true
    },
    "kernelspec": {
      "name": "python3",
      "display_name": "Python 3"
    },
    "language_info": {
      "name": "python"
    }
  },
  "cells": [
    {
      "cell_type": "markdown",
      "metadata": {
        "id": "view-in-github",
        "colab_type": "text"
      },
      "source": [
        "<a href=\"https://colab.research.google.com/github/Devi1308/...........21/blob/main/Untitled0.ipynb\" target=\"_parent\"><img src=\"https://colab.research.google.com/assets/colab-badge.svg\" alt=\"Open In Colab\"/></a>"
      ]
    },
    {
      "cell_type": "code",
      "execution_count": null,
      "metadata": {
        "colab": {
          "base_uri": "https://localhost:8080/"
        },
        "id": "9rSEeSlMcLbg",
        "outputId": "95b1ddb3-6a2d-4004-9d67-806d5f39ba20"
      },
      "outputs": [
        {
          "output_type": "stream",
          "name": "stdout",
          "text": [
            "Enter the year here!216\n",
            "YES! This is a leap year\n"
          ]
        }
      ],
      "source": [
        "year= float(input(\"Enter the year here!\"))\n",
        "if(year%4==0 and year%100 !=0 or year%400==0):\n",
        "  print(\"YES! This is a leap year\")\n",
        "else:\n",
        "  print(\"Oops! Not a leap year\")\n",
        "\n"
      ]
    },
    {
      "cell_type": "code",
      "source": [],
      "metadata": {
        "colab": {
          "base_uri": "https://localhost:8080/"
        },
        "id": "6jO7K0DLipH-",
        "outputId": "882753e9-f197-4cb6-b85a-b848b589a7bc"
      },
      "execution_count": null,
      "outputs": [
        {
          "name": "stdout",
          "output_type": "stream",
          "text": [
            "Type Here2\n"
          ]
        }
      ]
    },
    {
      "cell_type": "markdown",
      "source": [
        "height= int(input(\"Type Here\"))\n",
        "\n",
        "def coversion(height):\n",
        "  value1= 0.394 + \"in\"\n",
        "  value2= 0.0382 + \"ft\"\n",
        "  print(\"Height in inches is\",round(height*value1))\n",
        "  print(\"Height in feet is\",round(height*value2))\n",
        "\n",
        "             OR\n",
        "\n",
        "height= int(input(\"Type Here\"))\n",
        "\n",
        "def coversion(height):\n",
        "  value1= 0.394 + \"in\"\n",
        "  value2= 0.0382 + \"ft\"\n",
        "  inches= height*value1\n",
        "  feet= height*value2\n",
        "  inches\n",
        "  feet"
      ],
      "metadata": {
        "id": "_GD6Nhc7j0yx"
      }
    }
  ]
}